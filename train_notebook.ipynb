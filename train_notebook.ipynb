{
 "cells": [
  {
   "cell_type": "code",
   "execution_count": null,
   "id": "d48bf38e",
   "metadata": {},
   "outputs": [],
   "source": [
    "# folder_path = os.path.join(os.getcwd(), 'historical_data')\n",
    "\n",
    "# dataframes = []\n",
    "\n",
    "\n",
    "# for file_name in os.listdir(folder_path):\n",
    "#     if file_name.endswith('.csv'):\n",
    "#         file_path = os.path.join(folder_path, file_name)\n",
    "#         df = pd.read_csv(file_path)\n",
    "#         dataframes.append(df)\n",
    "\n",
    "# print(len(dataframes))\n",
    "# combined_df = pd.concat(dataframes, ignore_index=True)"
   ]
  },
  {
   "cell_type": "code",
   "execution_count": null,
   "id": "b3407e1b",
   "metadata": {},
   "outputs": [],
   "source": [
    "# y_pred = rf_model.predict(X_test)\n",
    "# rmse = np.sqrt(mean_squared_error(y_test, y_pred))\n",
    "# print(f'Test RMSE: {rmse}')\n",
    "\n",
    "# rf_score = rf_model.score(X_test,y_test)\n",
    "# expl_rf = explained_variance_score(y_pred, y_test)\n",
    "\n",
    "\n",
    "# models_score =pd.DataFrame({'Model':['Random forest Regression'],\n",
    "#                             'Score':[rf_score],\n",
    "#                             'Explained Variance Score':[expl_rf]\n",
    "#                            })\n",
    "# models_score.sort_values(by='Score',ascending=False)"
   ]
  },
  {
   "cell_type": "markdown",
   "id": "09866a89",
   "metadata": {},
   "source": [
    "----------------------------------------------------------------------------------------------------------------------"
   ]
  },
  {
   "cell_type": "code",
   "execution_count": null,
   "id": "016a1b0d-4302-464e-8428-0047e7d10145",
   "metadata": {},
   "outputs": [],
   "source": [
    "# plt.figure(figsize=(10,6))\n",
    "# sns.plotting_context('notebook',font_scale=1.2)\n",
    "# g = sns.pairplot(dataset, hue='beds',height=2)\n",
    "# g.set(xticklabels=[])"
   ]
  },
  {
   "cell_type": "code",
   "execution_count": null,
   "id": "5d8bd8c0",
   "metadata": {
    "scrolled": true
   },
   "outputs": [],
   "source": [
    "# sns.jointplot(x='zip_code',y='sold_price',data=dataset,kind='reg',height=4)\n",
    "# sns.jointplot(x='beds',y='sold_price',data=dataset,kind='reg',height=4)\n",
    "# sns.jointplot(x='sqft',y='sold_price',data=dataset,kind='reg',height=4)\n",
    "# sns.jointplot(x='year_built',y='sold_price',data=dataset,kind='reg',height=4)\n",
    "# sns.jointplot(x='last_sold_date',y='sold_price',data=dataset,kind='reg',height=4)\n",
    "# sns.jointplot(x='lot_sqft',y='sold_price',data=dataset,kind='reg',height=4)\n",
    "# sns.jointplot(x='stories',y='sold_price',data=dataset,kind='reg',height=4)\n",
    "# sns.jointplot(x='hoa_fee',y='sold_price',data=dataset,kind='reg',height=4)\n",
    "# sns.jointplot(x='parking_garage',y='sold_price',data=dataset,kind='reg',height=4)\n",
    "# sns.jointplot(x='distance_to_downtown',y='sold_price',data=dataset,kind='reg',height=4)\n",
    "# sns.jointplot(x='baths',y='sold_price',data=dataset,kind='reg',height=4)"
   ]
  },
  {
   "cell_type": "code",
   "execution_count": null,
   "id": "8c58c1a9",
   "metadata": {},
   "outputs": [],
   "source": [
    "# plt.figure(figsize=(15,10))\n",
    "# sns.heatmap(dataset.corr(),annot=True)"
   ]
  }
 ],
 "metadata": {
  "kernelspec": {
   "display_name": ".venv",
   "language": "python",
   "name": ".venv"
  },
  "language_info": {
   "codemirror_mode": {
    "name": "ipython",
    "version": 3
   },
   "file_extension": ".py",
   "mimetype": "text/x-python",
   "name": "python",
   "nbconvert_exporter": "python",
   "pygments_lexer": "ipython3",
   "version": "3.10.5"
  }
 },
 "nbformat": 4,
 "nbformat_minor": 5
}
