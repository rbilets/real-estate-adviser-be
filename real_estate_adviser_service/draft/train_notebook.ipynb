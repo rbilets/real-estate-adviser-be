{
 "cells": [
  {
   "cell_type": "code",
   "execution_count": null,
   "id": "ffe647d9",
   "metadata": {},
   "outputs": [],
   "source": []
  },
  {
   "cell_type": "code",
   "execution_count": 1,
   "id": "674e05b6",
   "metadata": {},
   "outputs": [
    {
     "ename": "AttributeError",
     "evalue": "'NoneType' object has no attribute 'value'",
     "output_type": "error",
     "traceback": [
      "\u001b[1;31m---------------------------------------------------------------------------\u001b[0m",
      "\u001b[1;31mAttributeError\u001b[0m                            Traceback (most recent call last)",
      "Cell \u001b[1;32mIn[1], line 3\u001b[0m\n\u001b[0;32m      1\u001b[0m \u001b[38;5;28;01mfrom\u001b[39;00m \u001b[38;5;21;01mhomeharvest\u001b[39;00m \u001b[38;5;28;01mimport\u001b[39;00m scrape_property\n\u001b[1;32m----> 3\u001b[0m properties \u001b[38;5;241m=\u001b[39m \u001b[43mscrape_property\u001b[49m\u001b[43m(\u001b[49m\n\u001b[0;32m      4\u001b[0m \u001b[43m    \u001b[49m\u001b[43mlocation\u001b[49m\u001b[38;5;241;43m=\u001b[39;49m\u001b[38;5;124;43m\"\u001b[39;49m\u001b[38;5;124;43mSeattle, WA\u001b[39;49m\u001b[38;5;124;43m\"\u001b[39;49m\u001b[43m,\u001b[49m\n\u001b[0;32m      5\u001b[0m \u001b[43m    \u001b[49m\u001b[43mlisting_type\u001b[49m\u001b[38;5;241;43m=\u001b[39;49m\u001b[38;5;124;43m\"\u001b[39;49m\u001b[38;5;124;43msold\u001b[39;49m\u001b[38;5;124;43m\"\u001b[39;49m\u001b[43m,\u001b[49m\u001b[43m  \u001b[49m\u001b[38;5;66;43;03m# or (for_sale, for_rent)\u001b[39;49;00m\n\u001b[0;32m      6\u001b[0m \u001b[43m    \u001b[49m\u001b[43mdate_from\u001b[49m\u001b[38;5;241;43m=\u001b[39;49m\u001b[38;5;124;43m\"\u001b[39;49m\u001b[38;5;124;43m2016-01-01\u001b[39;49m\u001b[38;5;124;43m\"\u001b[39;49m\u001b[43m,\u001b[49m\n\u001b[0;32m      7\u001b[0m \u001b[43m    \u001b[49m\u001b[43mdate_to\u001b[49m\u001b[38;5;241;43m=\u001b[39;49m\u001b[38;5;124;43m\"\u001b[39;49m\u001b[38;5;124;43m2016-04-01\u001b[39;49m\u001b[38;5;124;43m\"\u001b[39;49m\u001b[43m,\u001b[49m\n\u001b[0;32m      8\u001b[0m \u001b[43m)\u001b[49m\n",
      "File \u001b[1;32m~\\Desktop\\diploma\\Repos\\real-estate-scraper\\.venv\\lib\\site-packages\\homeharvest\\__init__.py:48\u001b[0m, in \u001b[0;36mscrape_property\u001b[1;34m(location, listing_type, radius, mls_only, past_days, proxy, date_from, date_to, foreclosure)\u001b[0m\n\u001b[0;32m     45\u001b[0m site \u001b[38;5;241m=\u001b[39m RealtorScraper(scraper_input)\n\u001b[0;32m     46\u001b[0m results \u001b[38;5;241m=\u001b[39m site\u001b[38;5;241m.\u001b[39msearch()\n\u001b[1;32m---> 48\u001b[0m properties_dfs \u001b[38;5;241m=\u001b[39m [process_result(result) \u001b[38;5;28;01mfor\u001b[39;00m result \u001b[38;5;129;01min\u001b[39;00m results]\n\u001b[0;32m     49\u001b[0m \u001b[38;5;28;01mif\u001b[39;00m \u001b[38;5;129;01mnot\u001b[39;00m properties_dfs:\n\u001b[0;32m     50\u001b[0m     \u001b[38;5;28;01mreturn\u001b[39;00m pd\u001b[38;5;241m.\u001b[39mDataFrame()\n",
      "File \u001b[1;32m~\\Desktop\\diploma\\Repos\\real-estate-scraper\\.venv\\lib\\site-packages\\homeharvest\\__init__.py:48\u001b[0m, in \u001b[0;36m<listcomp>\u001b[1;34m(.0)\u001b[0m\n\u001b[0;32m     45\u001b[0m site \u001b[38;5;241m=\u001b[39m RealtorScraper(scraper_input)\n\u001b[0;32m     46\u001b[0m results \u001b[38;5;241m=\u001b[39m site\u001b[38;5;241m.\u001b[39msearch()\n\u001b[1;32m---> 48\u001b[0m properties_dfs \u001b[38;5;241m=\u001b[39m [\u001b[43mprocess_result\u001b[49m\u001b[43m(\u001b[49m\u001b[43mresult\u001b[49m\u001b[43m)\u001b[49m \u001b[38;5;28;01mfor\u001b[39;00m result \u001b[38;5;129;01min\u001b[39;00m results]\n\u001b[0;32m     49\u001b[0m \u001b[38;5;28;01mif\u001b[39;00m \u001b[38;5;129;01mnot\u001b[39;00m properties_dfs:\n\u001b[0;32m     50\u001b[0m     \u001b[38;5;28;01mreturn\u001b[39;00m pd\u001b[38;5;241m.\u001b[39mDataFrame()\n",
      "File \u001b[1;32m~\\Desktop\\diploma\\Repos\\real-estate-scraper\\.venv\\lib\\site-packages\\homeharvest\\utils.py:70\u001b[0m, in \u001b[0;36mprocess_result\u001b[1;34m(result)\u001b[0m\n\u001b[0;32m     68\u001b[0m prop_data[\u001b[38;5;124m\"\u001b[39m\u001b[38;5;124mprimary_photo\u001b[39m\u001b[38;5;124m\"\u001b[39m] \u001b[38;5;241m=\u001b[39m description\u001b[38;5;241m.\u001b[39mprimary_photo\n\u001b[0;32m     69\u001b[0m prop_data[\u001b[38;5;124m\"\u001b[39m\u001b[38;5;124malt_photos\u001b[39m\u001b[38;5;124m\"\u001b[39m] \u001b[38;5;241m=\u001b[39m \u001b[38;5;124m\"\u001b[39m\u001b[38;5;124m, \u001b[39m\u001b[38;5;124m\"\u001b[39m\u001b[38;5;241m.\u001b[39mjoin(description\u001b[38;5;241m.\u001b[39malt_photos)\n\u001b[1;32m---> 70\u001b[0m prop_data[\u001b[38;5;124m\"\u001b[39m\u001b[38;5;124mstyle\u001b[39m\u001b[38;5;124m\"\u001b[39m] \u001b[38;5;241m=\u001b[39m \u001b[43mdescription\u001b[49m\u001b[38;5;241;43m.\u001b[39;49m\u001b[43mstyle\u001b[49m\u001b[38;5;241;43m.\u001b[39;49m\u001b[43mvalue\u001b[49m\n\u001b[0;32m     71\u001b[0m prop_data[\u001b[38;5;124m\"\u001b[39m\u001b[38;5;124mbeds\u001b[39m\u001b[38;5;124m\"\u001b[39m] \u001b[38;5;241m=\u001b[39m description\u001b[38;5;241m.\u001b[39mbeds\n\u001b[0;32m     72\u001b[0m prop_data[\u001b[38;5;124m\"\u001b[39m\u001b[38;5;124mfull_baths\u001b[39m\u001b[38;5;124m\"\u001b[39m] \u001b[38;5;241m=\u001b[39m description\u001b[38;5;241m.\u001b[39mbaths_full\n",
      "\u001b[1;31mAttributeError\u001b[0m: 'NoneType' object has no attribute 'value'"
     ]
    }
   ],
   "source": [
    "from homeharvest import scrape_property\n",
    "\n",
    "properties = scrape_property(\n",
    "    location=\"Seattle, WA\",\n",
    "    listing_type=\"sold\",  # or (for_sale, for_rent)\n",
    "    date_from=\"2016-01-01\",\n",
    "    date_to=\"2016-04-01\",\n",
    ")"
   ]
  },
  {
   "cell_type": "code",
   "execution_count": null,
   "id": "e70939eb",
   "metadata": {},
   "outputs": [],
   "source": []
  },
  {
   "cell_type": "code",
   "execution_count": null,
   "id": "9e43939f",
   "metadata": {},
   "outputs": [],
   "source": [
    "import re\n",
    "\n",
    "location = \"Seattle,WA\"\n",
    "print(location)\n",
    "\n",
    "print(location)"
   ]
  },
  {
   "cell_type": "code",
   "execution_count": null,
   "id": "485d6bba",
   "metadata": {},
   "outputs": [],
   "source": [
    "location_formatted = re.split(r'\\s*,\\s*', \"Seattle,WA\".lower())\n",
    "print(location_formatted)"
   ]
  },
  {
   "cell_type": "code",
   "execution_count": null,
   "id": "e76648ff",
   "metadata": {},
   "outputs": [],
   "source": [
    "\n",
    "df = scrape_historical_sales(location)"
   ]
  },
  {
   "cell_type": "code",
   "execution_count": null,
   "id": "7fa655cf",
   "metadata": {},
   "outputs": [],
   "source": [
    "dataset = PropertyDatasetProcessor(df, city).clean_dataset()"
   ]
  },
  {
   "cell_type": "code",
   "execution_count": null,
   "id": "47abbecd",
   "metadata": {},
   "outputs": [],
   "source": [
    "model = train_model(dataset)"
   ]
  },
  {
   "cell_type": "code",
   "execution_count": null,
   "id": "64837479",
   "metadata": {},
   "outputs": [],
   "source": [
    "serialized_model = pickle.dumps(model)"
   ]
  },
  {
   "cell_type": "code",
   "execution_count": null,
   "id": "34f322b8",
   "metadata": {},
   "outputs": [],
   "source": [
    "print(\"Model size: \", len(serialized_model))"
   ]
  },
  {
   "cell_type": "code",
   "execution_count": null,
   "id": "be7452f5",
   "metadata": {},
   "outputs": [],
   "source": [
    "\n",
    "\n",
    "\n",
    "\n",
    "        \n",
    "\n"
   ]
  },
  {
   "cell_type": "code",
   "execution_count": null,
   "id": "446d7cc9",
   "metadata": {},
   "outputs": [],
   "source": [
    "import os\n",
    "\n",
    "import base64\n",
    "import pickle\n",
    "from azure.storage.blob import BlobServiceClient, BlobClient\n",
    "\n",
    "# Assuming 'config' is defined elsewhere in your project\n",
    "\n",
    "\n",
    "# Initialize the BlobServiceClient\n",
    "blob_service_client = BlobServiceClient.from_connection_string(connection_string)\n",
    "container_client = blob_service_client.get_container_client(container_name)\n",
    "\n",
    "# Create a unique blob name\n",
    "\n",
    "blob_client = container_client.get_blob_client(blob=blob_name)\n",
    "\n",
    "# Serialize the model\n",
    "serialized_model = pickle.dumps(model)\n",
    "\n",
    "# Function to divide the model into chunks\n",
    "def get_chunks(data, chunk_size=4 * 1024 * 1024):  # Default to 4MB chunks\n",
    "    index = 0\n",
    "    while index < len(data):\n",
    "        yield data[index:index + chunk_size]\n",
    "        index += chunk_size\n",
    "\n",
    "# List to store block ids\n",
    "block_ids = []\n",
    "\n",
    "# Upload the chunks\n",
    "for i, chunk in enumerate(get_chunks(serialized_model)):\n",
    "    block_id = str(uuid.uuid4()).encode('utf-8')  # Generate a unique block id\n",
    "    base64_block_id = base64.b64encode(block_id).decode('utf-8')\n",
    "    blob_client.stage_block(block_id=base64_block_id, data=chunk, length=len(chunk))\n",
    "    block_ids.append(base64_block_id)\n",
    "\n",
    "# Commit the blocks to create the final blob\n",
    "blob_client.commit_block_list([{'id': id} for id in block_ids])\n",
    "\n",
    "print(f\"{blob_name} uploaded successfully.\")\n"
   ]
  },
  {
   "cell_type": "code",
   "execution_count": null,
   "id": "d48bf38e",
   "metadata": {},
   "outputs": [],
   "source": [
    "# folder_path = os.path.join(os.getcwd(), 'historical_data')\n",
    "\n",
    "# dataframes = []\n",
    "\n",
    "\n",
    "# for file_name in os.listdir(folder_path):\n",
    "#     if file_name.endswith('.csv'):\n",
    "#         file_path = os.path.join(folder_path, file_name)\n",
    "#         df = pd.read_csv(file_path)\n",
    "#         dataframes.append(df)\n",
    "\n",
    "# print(len(dataframes))\n",
    "# combined_df = pd.concat(dataframes, ignore_index=True)"
   ]
  },
  {
   "cell_type": "code",
   "execution_count": null,
   "id": "b3407e1b",
   "metadata": {},
   "outputs": [],
   "source": [
    "# y_pred = rf_model.predict(X_test)\n",
    "# rmse = np.sqrt(mean_squared_error(y_test, y_pred))\n",
    "# print(f'Test RMSE: {rmse}')\n",
    "\n",
    "# rf_score = rf_model.score(X_test,y_test)\n",
    "# expl_rf = explained_variance_score(y_pred, y_test)\n",
    "\n",
    "\n",
    "# models_score =pd.DataFrame({'Model':['Random forest Regression'],\n",
    "#                             'Score':[rf_score],\n",
    "#                             'Explained Variance Score':[expl_rf]\n",
    "#                            })\n",
    "# models_score.sort_values(by='Score',ascending=False)"
   ]
  },
  {
   "cell_type": "markdown",
   "id": "09866a89",
   "metadata": {},
   "source": [
    "----------------------------------------------------------------------------------------------------------------------"
   ]
  },
  {
   "cell_type": "code",
   "execution_count": null,
   "id": "016a1b0d-4302-464e-8428-0047e7d10145",
   "metadata": {},
   "outputs": [],
   "source": [
    "# plt.figure(figsize=(10,6))\n",
    "# sns.plotting_context('notebook',font_scale=1.2)\n",
    "# g = sns.pairplot(dataset, hue='beds',height=2)\n",
    "# g.set(xticklabels=[])"
   ]
  },
  {
   "cell_type": "code",
   "execution_count": null,
   "id": "5d8bd8c0",
   "metadata": {
    "scrolled": true
   },
   "outputs": [],
   "source": [
    "# sns.jointplot(x='zip_code',y='sold_price',data=dataset,kind='reg',height=4)\n",
    "# sns.jointplot(x='beds',y='sold_price',data=dataset,kind='reg',height=4)\n",
    "# sns.jointplot(x='sqft',y='sold_price',data=dataset,kind='reg',height=4)\n",
    "# sns.jointplot(x='year_built',y='sold_price',data=dataset,kind='reg',height=4)\n",
    "# sns.jointplot(x='last_sold_date',y='sold_price',data=dataset,kind='reg',height=4)\n",
    "# sns.jointplot(x='lot_sqft',y='sold_price',data=dataset,kind='reg',height=4)\n",
    "# sns.jointplot(x='stories',y='sold_price',data=dataset,kind='reg',height=4)\n",
    "# sns.jointplot(x='hoa_fee',y='sold_price',data=dataset,kind='reg',height=4)\n",
    "# sns.jointplot(x='parking_garage',y='sold_price',data=dataset,kind='reg',height=4)\n",
    "# sns.jointplot(x='distance_to_downtown',y='sold_price',data=dataset,kind='reg',height=4)\n",
    "# sns.jointplot(x='baths',y='sold_price',data=dataset,kind='reg',height=4)"
   ]
  },
  {
   "cell_type": "code",
   "execution_count": null,
   "id": "8c58c1a9",
   "metadata": {},
   "outputs": [],
   "source": [
    "# plt.figure(figsize=(15,10))\n",
    "# sns.heatmap(dataset.corr(),annot=True)"
   ]
  }
 ],
 "metadata": {
  "kernelspec": {
   "display_name": ".venv",
   "language": "python",
   "name": ".venv"
  },
  "language_info": {
   "codemirror_mode": {
    "name": "ipython",
    "version": 3
   },
   "file_extension": ".py",
   "mimetype": "text/x-python",
   "name": "python",
   "nbconvert_exporter": "python",
   "pygments_lexer": "ipython3",
   "version": "3.10.5"
  }
 },
 "nbformat": 4,
 "nbformat_minor": 5
}
