{
 "cells": [
  {
   "cell_type": "code",
   "execution_count": null,
   "id": "22f92ede",
   "metadata": {},
   "outputs": [],
   "source": [
    "import pandas as pd\n",
    "\n",
    "pd.set_option('display.max_columns', None)  # None means unlimited\n",
    "pd.set_option('display.max_rows', None)     # None means unlimited\n",
    "pd.set_option('display.max_colwidth', None) # None means show entire content of the column"
   ]
  },
  {
   "cell_type": "code",
   "execution_count": 12,
   "id": "5533524e",
   "metadata": {},
   "outputs": [],
   "source": [
    "import re\n",
    "\n",
    "def format_location(location: str):\n",
    "    error_msg = \"Incorrect format of location. Correct format: Seattle, WA\"\n",
    "    try:\n",
    "        location_formatted = re.split(r'\\s*,\\s*', location.lower())\n",
    "        city, state = (\n",
    "            location_formatted[0].title(),\n",
    "            location_formatted[1].upper(),\n",
    "        )\n",
    "        location = f\"{city}, {state}\"\n",
    "    except:\n",
    "        raise ValueError(\n",
    "            error_msg\n",
    "        )\n",
    "\n",
    "    if not city or not state or not location or len(state) != 2:\n",
    "        raise HTTPException(\n",
    "            status_code=400, detail=error_msg\n",
    "        )\n",
    "\n",
    "    return location, city, state"
   ]
  },
  {
   "cell_type": "code",
   "execution_count": 22,
   "id": "22478982",
   "metadata": {},
   "outputs": [
    {
     "ename": "NameError",
     "evalue": "name 'HTTPException' is not defined",
     "output_type": "error",
     "traceback": [
      "\u001b[1;31m---------------------------------------------------------------------------\u001b[0m",
      "\u001b[1;31mNameError\u001b[0m                                 Traceback (most recent call last)",
      "Cell \u001b[1;32mIn[22], line 3\u001b[0m\n\u001b[0;32m      1\u001b[0m location \u001b[38;5;241m=\u001b[39m \u001b[38;5;124m\"\u001b[39m\u001b[38;5;124mSan francisco,cal\u001b[39m\u001b[38;5;124m\"\u001b[39m\n\u001b[1;32m----> 3\u001b[0m location, city, state \u001b[38;5;241m=\u001b[39m \u001b[43mformat_location\u001b[49m\u001b[43m(\u001b[49m\u001b[43mlocation\u001b[49m\u001b[43m)\u001b[49m\n\u001b[0;32m      5\u001b[0m \u001b[38;5;28mprint\u001b[39m(location)\n\u001b[0;32m      6\u001b[0m \u001b[38;5;28mprint\u001b[39m(city)\n",
      "Cell \u001b[1;32mIn[12], line 18\u001b[0m, in \u001b[0;36mformat_location\u001b[1;34m(location)\u001b[0m\n\u001b[0;32m     13\u001b[0m     \u001b[38;5;28;01mraise\u001b[39;00m \u001b[38;5;167;01mValueError\u001b[39;00m(\n\u001b[0;32m     14\u001b[0m         error_msg\n\u001b[0;32m     15\u001b[0m     )\n\u001b[0;32m     17\u001b[0m \u001b[38;5;28;01mif\u001b[39;00m \u001b[38;5;129;01mnot\u001b[39;00m city \u001b[38;5;129;01mor\u001b[39;00m \u001b[38;5;129;01mnot\u001b[39;00m state \u001b[38;5;129;01mor\u001b[39;00m \u001b[38;5;129;01mnot\u001b[39;00m location \u001b[38;5;129;01mor\u001b[39;00m \u001b[38;5;28mlen\u001b[39m(state) \u001b[38;5;241m!=\u001b[39m \u001b[38;5;241m2\u001b[39m:\n\u001b[1;32m---> 18\u001b[0m     \u001b[38;5;28;01mraise\u001b[39;00m \u001b[43mHTTPException\u001b[49m(\n\u001b[0;32m     19\u001b[0m         status_code\u001b[38;5;241m=\u001b[39m\u001b[38;5;241m400\u001b[39m, detail\u001b[38;5;241m=\u001b[39merror_msg\n\u001b[0;32m     20\u001b[0m     )\n\u001b[0;32m     22\u001b[0m \u001b[38;5;28;01mreturn\u001b[39;00m location, city, state\n",
      "\u001b[1;31mNameError\u001b[0m: name 'HTTPException' is not defined"
     ]
    }
   ],
   "source": [
    "location = \"San francisco,cal\"\n",
    "\n",
    "location, city, state = format_location(location)\n",
    "\n",
    "print(location)\n",
    "print(city)\n",
    "print(state)"
   ]
  },
  {
   "cell_type": "code",
   "execution_count": null,
   "id": "c7a27f83",
   "metadata": {},
   "outputs": [],
   "source": []
  }
 ],
 "metadata": {
  "kernelspec": {
   "display_name": ".venv",
   "language": "python",
   "name": ".venv"
  },
  "language_info": {
   "codemirror_mode": {
    "name": "ipython",
    "version": 3
   },
   "file_extension": ".py",
   "mimetype": "text/x-python",
   "name": "python",
   "nbconvert_exporter": "python",
   "pygments_lexer": "ipython3",
   "version": "3.10.5"
  }
 },
 "nbformat": 4,
 "nbformat_minor": 5
}
